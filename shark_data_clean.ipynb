{
 "cells": [
  {
   "cell_type": "markdown",
   "metadata": {},
   "source": [
    "## Primero, importamos los módulos y el archivo csv sobre el que vamos a trabajar"
   ]
  },
  {
   "cell_type": "code",
   "execution_count": 2,
   "metadata": {},
   "outputs": [],
   "source": [
    "import pandas as pd\n",
    "import numpy as np"
   ]
  },
  {
   "cell_type": "code",
   "execution_count": 3,
   "metadata": {},
   "outputs": [],
   "source": [
    "df = pd.read_csv('input/attacks.csv', encoding='latin')"
   ]
  },
  {
   "cell_type": "code",
   "execution_count": 4,
   "metadata": {},
   "outputs": [
    {
     "data": {
      "text/html": [
       "<div>\n",
       "<style scoped>\n",
       "    .dataframe tbody tr th:only-of-type {\n",
       "        vertical-align: middle;\n",
       "    }\n",
       "\n",
       "    .dataframe tbody tr th {\n",
       "        vertical-align: top;\n",
       "    }\n",
       "\n",
       "    .dataframe thead th {\n",
       "        text-align: right;\n",
       "    }\n",
       "</style>\n",
       "<table border=\"1\" class=\"dataframe\">\n",
       "  <thead>\n",
       "    <tr style=\"text-align: right;\">\n",
       "      <th></th>\n",
       "      <th>Case Number</th>\n",
       "      <th>Date</th>\n",
       "      <th>Year</th>\n",
       "      <th>Type</th>\n",
       "      <th>Country</th>\n",
       "      <th>Area</th>\n",
       "      <th>Location</th>\n",
       "      <th>Activity</th>\n",
       "      <th>Name</th>\n",
       "      <th>Sex</th>\n",
       "      <th>...</th>\n",
       "      <th>Species</th>\n",
       "      <th>Investigator or Source</th>\n",
       "      <th>pdf</th>\n",
       "      <th>href formula</th>\n",
       "      <th>href</th>\n",
       "      <th>Case Number.1</th>\n",
       "      <th>Case Number.2</th>\n",
       "      <th>original order</th>\n",
       "      <th>Unnamed: 22</th>\n",
       "      <th>Unnamed: 23</th>\n",
       "    </tr>\n",
       "  </thead>\n",
       "  <tbody>\n",
       "    <tr>\n",
       "      <th>0</th>\n",
       "      <td>2018.06.25</td>\n",
       "      <td>25-Jun-2018</td>\n",
       "      <td>2018.0</td>\n",
       "      <td>Boating</td>\n",
       "      <td>USA</td>\n",
       "      <td>California</td>\n",
       "      <td>Oceanside, San Diego County</td>\n",
       "      <td>Paddling</td>\n",
       "      <td>Julie Wolfe</td>\n",
       "      <td>F</td>\n",
       "      <td>...</td>\n",
       "      <td>White shark</td>\n",
       "      <td>R. Collier, GSAF</td>\n",
       "      <td>2018.06.25-Wolfe.pdf</td>\n",
       "      <td>http://sharkattackfile.net/spreadsheets/pdf_di...</td>\n",
       "      <td>http://sharkattackfile.net/spreadsheets/pdf_di...</td>\n",
       "      <td>2018.06.25</td>\n",
       "      <td>2018.06.25</td>\n",
       "      <td>6303.0</td>\n",
       "      <td>NaN</td>\n",
       "      <td>NaN</td>\n",
       "    </tr>\n",
       "    <tr>\n",
       "      <th>1</th>\n",
       "      <td>2018.06.18</td>\n",
       "      <td>18-Jun-2018</td>\n",
       "      <td>2018.0</td>\n",
       "      <td>Unprovoked</td>\n",
       "      <td>USA</td>\n",
       "      <td>Georgia</td>\n",
       "      <td>St. Simon Island, Glynn County</td>\n",
       "      <td>Standing</td>\n",
       "      <td>Adyson McNeely</td>\n",
       "      <td>F</td>\n",
       "      <td>...</td>\n",
       "      <td>NaN</td>\n",
       "      <td>K.McMurray, TrackingSharks.com</td>\n",
       "      <td>2018.06.18-McNeely.pdf</td>\n",
       "      <td>http://sharkattackfile.net/spreadsheets/pdf_di...</td>\n",
       "      <td>http://sharkattackfile.net/spreadsheets/pdf_di...</td>\n",
       "      <td>2018.06.18</td>\n",
       "      <td>2018.06.18</td>\n",
       "      <td>6302.0</td>\n",
       "      <td>NaN</td>\n",
       "      <td>NaN</td>\n",
       "    </tr>\n",
       "    <tr>\n",
       "      <th>2</th>\n",
       "      <td>2018.06.09</td>\n",
       "      <td>09-Jun-2018</td>\n",
       "      <td>2018.0</td>\n",
       "      <td>Invalid</td>\n",
       "      <td>USA</td>\n",
       "      <td>Hawaii</td>\n",
       "      <td>Habush, Oahu</td>\n",
       "      <td>Surfing</td>\n",
       "      <td>John Denges</td>\n",
       "      <td>M</td>\n",
       "      <td>...</td>\n",
       "      <td>NaN</td>\n",
       "      <td>K.McMurray, TrackingSharks.com</td>\n",
       "      <td>2018.06.09-Denges.pdf</td>\n",
       "      <td>http://sharkattackfile.net/spreadsheets/pdf_di...</td>\n",
       "      <td>http://sharkattackfile.net/spreadsheets/pdf_di...</td>\n",
       "      <td>2018.06.09</td>\n",
       "      <td>2018.06.09</td>\n",
       "      <td>6301.0</td>\n",
       "      <td>NaN</td>\n",
       "      <td>NaN</td>\n",
       "    </tr>\n",
       "    <tr>\n",
       "      <th>3</th>\n",
       "      <td>2018.06.08</td>\n",
       "      <td>08-Jun-2018</td>\n",
       "      <td>2018.0</td>\n",
       "      <td>Unprovoked</td>\n",
       "      <td>AUSTRALIA</td>\n",
       "      <td>New South Wales</td>\n",
       "      <td>Arrawarra Headland</td>\n",
       "      <td>Surfing</td>\n",
       "      <td>male</td>\n",
       "      <td>M</td>\n",
       "      <td>...</td>\n",
       "      <td>2 m shark</td>\n",
       "      <td>B. Myatt, GSAF</td>\n",
       "      <td>2018.06.08-Arrawarra.pdf</td>\n",
       "      <td>http://sharkattackfile.net/spreadsheets/pdf_di...</td>\n",
       "      <td>http://sharkattackfile.net/spreadsheets/pdf_di...</td>\n",
       "      <td>2018.06.08</td>\n",
       "      <td>2018.06.08</td>\n",
       "      <td>6300.0</td>\n",
       "      <td>NaN</td>\n",
       "      <td>NaN</td>\n",
       "    </tr>\n",
       "    <tr>\n",
       "      <th>4</th>\n",
       "      <td>2018.06.04</td>\n",
       "      <td>04-Jun-2018</td>\n",
       "      <td>2018.0</td>\n",
       "      <td>Provoked</td>\n",
       "      <td>MEXICO</td>\n",
       "      <td>Colima</td>\n",
       "      <td>La Ticla</td>\n",
       "      <td>Free diving</td>\n",
       "      <td>Gustavo Ramos</td>\n",
       "      <td>M</td>\n",
       "      <td>...</td>\n",
       "      <td>Tiger shark, 3m</td>\n",
       "      <td>A .Kipper</td>\n",
       "      <td>2018.06.04-Ramos.pdf</td>\n",
       "      <td>http://sharkattackfile.net/spreadsheets/pdf_di...</td>\n",
       "      <td>http://sharkattackfile.net/spreadsheets/pdf_di...</td>\n",
       "      <td>2018.06.04</td>\n",
       "      <td>2018.06.04</td>\n",
       "      <td>6299.0</td>\n",
       "      <td>NaN</td>\n",
       "      <td>NaN</td>\n",
       "    </tr>\n",
       "    <tr>\n",
       "      <th>...</th>\n",
       "      <td>...</td>\n",
       "      <td>...</td>\n",
       "      <td>...</td>\n",
       "      <td>...</td>\n",
       "      <td>...</td>\n",
       "      <td>...</td>\n",
       "      <td>...</td>\n",
       "      <td>...</td>\n",
       "      <td>...</td>\n",
       "      <td>...</td>\n",
       "      <td>...</td>\n",
       "      <td>...</td>\n",
       "      <td>...</td>\n",
       "      <td>...</td>\n",
       "      <td>...</td>\n",
       "      <td>...</td>\n",
       "      <td>...</td>\n",
       "      <td>...</td>\n",
       "      <td>...</td>\n",
       "      <td>...</td>\n",
       "      <td>...</td>\n",
       "    </tr>\n",
       "    <tr>\n",
       "      <th>25718</th>\n",
       "      <td>NaN</td>\n",
       "      <td>NaN</td>\n",
       "      <td>NaN</td>\n",
       "      <td>NaN</td>\n",
       "      <td>NaN</td>\n",
       "      <td>NaN</td>\n",
       "      <td>NaN</td>\n",
       "      <td>NaN</td>\n",
       "      <td>NaN</td>\n",
       "      <td>NaN</td>\n",
       "      <td>...</td>\n",
       "      <td>NaN</td>\n",
       "      <td>NaN</td>\n",
       "      <td>NaN</td>\n",
       "      <td>NaN</td>\n",
       "      <td>NaN</td>\n",
       "      <td>NaN</td>\n",
       "      <td>NaN</td>\n",
       "      <td>NaN</td>\n",
       "      <td>NaN</td>\n",
       "      <td>NaN</td>\n",
       "    </tr>\n",
       "    <tr>\n",
       "      <th>25719</th>\n",
       "      <td>NaN</td>\n",
       "      <td>NaN</td>\n",
       "      <td>NaN</td>\n",
       "      <td>NaN</td>\n",
       "      <td>NaN</td>\n",
       "      <td>NaN</td>\n",
       "      <td>NaN</td>\n",
       "      <td>NaN</td>\n",
       "      <td>NaN</td>\n",
       "      <td>NaN</td>\n",
       "      <td>...</td>\n",
       "      <td>NaN</td>\n",
       "      <td>NaN</td>\n",
       "      <td>NaN</td>\n",
       "      <td>NaN</td>\n",
       "      <td>NaN</td>\n",
       "      <td>NaN</td>\n",
       "      <td>NaN</td>\n",
       "      <td>NaN</td>\n",
       "      <td>NaN</td>\n",
       "      <td>NaN</td>\n",
       "    </tr>\n",
       "    <tr>\n",
       "      <th>25720</th>\n",
       "      <td>NaN</td>\n",
       "      <td>NaN</td>\n",
       "      <td>NaN</td>\n",
       "      <td>NaN</td>\n",
       "      <td>NaN</td>\n",
       "      <td>NaN</td>\n",
       "      <td>NaN</td>\n",
       "      <td>NaN</td>\n",
       "      <td>NaN</td>\n",
       "      <td>NaN</td>\n",
       "      <td>...</td>\n",
       "      <td>NaN</td>\n",
       "      <td>NaN</td>\n",
       "      <td>NaN</td>\n",
       "      <td>NaN</td>\n",
       "      <td>NaN</td>\n",
       "      <td>NaN</td>\n",
       "      <td>NaN</td>\n",
       "      <td>NaN</td>\n",
       "      <td>NaN</td>\n",
       "      <td>NaN</td>\n",
       "    </tr>\n",
       "    <tr>\n",
       "      <th>25721</th>\n",
       "      <td>NaN</td>\n",
       "      <td>NaN</td>\n",
       "      <td>NaN</td>\n",
       "      <td>NaN</td>\n",
       "      <td>NaN</td>\n",
       "      <td>NaN</td>\n",
       "      <td>NaN</td>\n",
       "      <td>NaN</td>\n",
       "      <td>NaN</td>\n",
       "      <td>NaN</td>\n",
       "      <td>...</td>\n",
       "      <td>NaN</td>\n",
       "      <td>NaN</td>\n",
       "      <td>NaN</td>\n",
       "      <td>NaN</td>\n",
       "      <td>NaN</td>\n",
       "      <td>NaN</td>\n",
       "      <td>NaN</td>\n",
       "      <td>NaN</td>\n",
       "      <td>NaN</td>\n",
       "      <td>NaN</td>\n",
       "    </tr>\n",
       "    <tr>\n",
       "      <th>25722</th>\n",
       "      <td>xx</td>\n",
       "      <td>NaN</td>\n",
       "      <td>NaN</td>\n",
       "      <td>NaN</td>\n",
       "      <td>NaN</td>\n",
       "      <td>NaN</td>\n",
       "      <td>NaN</td>\n",
       "      <td>NaN</td>\n",
       "      <td>NaN</td>\n",
       "      <td>NaN</td>\n",
       "      <td>...</td>\n",
       "      <td>NaN</td>\n",
       "      <td>NaN</td>\n",
       "      <td>NaN</td>\n",
       "      <td>NaN</td>\n",
       "      <td>NaN</td>\n",
       "      <td>NaN</td>\n",
       "      <td>NaN</td>\n",
       "      <td>NaN</td>\n",
       "      <td>NaN</td>\n",
       "      <td>NaN</td>\n",
       "    </tr>\n",
       "  </tbody>\n",
       "</table>\n",
       "<p>25723 rows × 24 columns</p>\n",
       "</div>"
      ],
      "text/plain": [
       "      Case Number         Date    Year        Type    Country  \\\n",
       "0      2018.06.25  25-Jun-2018  2018.0     Boating        USA   \n",
       "1      2018.06.18  18-Jun-2018  2018.0  Unprovoked        USA   \n",
       "2      2018.06.09  09-Jun-2018  2018.0     Invalid        USA   \n",
       "3      2018.06.08  08-Jun-2018  2018.0  Unprovoked  AUSTRALIA   \n",
       "4      2018.06.04  04-Jun-2018  2018.0    Provoked     MEXICO   \n",
       "...           ...          ...     ...         ...        ...   \n",
       "25718         NaN          NaN     NaN         NaN        NaN   \n",
       "25719         NaN          NaN     NaN         NaN        NaN   \n",
       "25720         NaN          NaN     NaN         NaN        NaN   \n",
       "25721         NaN          NaN     NaN         NaN        NaN   \n",
       "25722          xx          NaN     NaN         NaN        NaN   \n",
       "\n",
       "                  Area                        Location     Activity  \\\n",
       "0           California     Oceanside, San Diego County     Paddling   \n",
       "1              Georgia  St. Simon Island, Glynn County     Standing   \n",
       "2               Hawaii                    Habush, Oahu      Surfing   \n",
       "3      New South Wales              Arrawarra Headland      Surfing   \n",
       "4               Colima                        La Ticla  Free diving   \n",
       "...                ...                             ...          ...   \n",
       "25718              NaN                             NaN          NaN   \n",
       "25719              NaN                             NaN          NaN   \n",
       "25720              NaN                             NaN          NaN   \n",
       "25721              NaN                             NaN          NaN   \n",
       "25722              NaN                             NaN          NaN   \n",
       "\n",
       "                  Name Sex   ...         Species   \\\n",
       "0          Julie Wolfe    F  ...      White shark   \n",
       "1      Adyson McNeely     F  ...              NaN   \n",
       "2          John Denges    M  ...              NaN   \n",
       "3                 male    M  ...        2 m shark   \n",
       "4       Gustavo Ramos     M  ...  Tiger shark, 3m   \n",
       "...                ...  ...  ...              ...   \n",
       "25718              NaN  NaN  ...              NaN   \n",
       "25719              NaN  NaN  ...              NaN   \n",
       "25720              NaN  NaN  ...              NaN   \n",
       "25721              NaN  NaN  ...              NaN   \n",
       "25722              NaN  NaN  ...              NaN   \n",
       "\n",
       "               Investigator or Source                       pdf  \\\n",
       "0                    R. Collier, GSAF      2018.06.25-Wolfe.pdf   \n",
       "1      K.McMurray, TrackingSharks.com    2018.06.18-McNeely.pdf   \n",
       "2      K.McMurray, TrackingSharks.com     2018.06.09-Denges.pdf   \n",
       "3                      B. Myatt, GSAF  2018.06.08-Arrawarra.pdf   \n",
       "4                           A .Kipper      2018.06.04-Ramos.pdf   \n",
       "...                               ...                       ...   \n",
       "25718                             NaN                       NaN   \n",
       "25719                             NaN                       NaN   \n",
       "25720                             NaN                       NaN   \n",
       "25721                             NaN                       NaN   \n",
       "25722                             NaN                       NaN   \n",
       "\n",
       "                                            href formula  \\\n",
       "0      http://sharkattackfile.net/spreadsheets/pdf_di...   \n",
       "1      http://sharkattackfile.net/spreadsheets/pdf_di...   \n",
       "2      http://sharkattackfile.net/spreadsheets/pdf_di...   \n",
       "3      http://sharkattackfile.net/spreadsheets/pdf_di...   \n",
       "4      http://sharkattackfile.net/spreadsheets/pdf_di...   \n",
       "...                                                  ...   \n",
       "25718                                                NaN   \n",
       "25719                                                NaN   \n",
       "25720                                                NaN   \n",
       "25721                                                NaN   \n",
       "25722                                                NaN   \n",
       "\n",
       "                                                    href Case Number.1  \\\n",
       "0      http://sharkattackfile.net/spreadsheets/pdf_di...    2018.06.25   \n",
       "1      http://sharkattackfile.net/spreadsheets/pdf_di...    2018.06.18   \n",
       "2      http://sharkattackfile.net/spreadsheets/pdf_di...    2018.06.09   \n",
       "3      http://sharkattackfile.net/spreadsheets/pdf_di...    2018.06.08   \n",
       "4      http://sharkattackfile.net/spreadsheets/pdf_di...    2018.06.04   \n",
       "...                                                  ...           ...   \n",
       "25718                                                NaN           NaN   \n",
       "25719                                                NaN           NaN   \n",
       "25720                                                NaN           NaN   \n",
       "25721                                                NaN           NaN   \n",
       "25722                                                NaN           NaN   \n",
       "\n",
       "      Case Number.2 original order Unnamed: 22 Unnamed: 23  \n",
       "0        2018.06.25         6303.0         NaN         NaN  \n",
       "1        2018.06.18         6302.0         NaN         NaN  \n",
       "2        2018.06.09         6301.0         NaN         NaN  \n",
       "3        2018.06.08         6300.0         NaN         NaN  \n",
       "4        2018.06.04         6299.0         NaN         NaN  \n",
       "...             ...            ...         ...         ...  \n",
       "25718           NaN            NaN         NaN         NaN  \n",
       "25719           NaN            NaN         NaN         NaN  \n",
       "25720           NaN            NaN         NaN         NaN  \n",
       "25721           NaN            NaN         NaN         NaN  \n",
       "25722           NaN            NaN         NaN         NaN  \n",
       "\n",
       "[25723 rows x 24 columns]"
      ]
     },
     "execution_count": 4,
     "metadata": {},
     "output_type": "execute_result"
    }
   ],
   "source": [
    "df"
   ]
  },
  {
   "cell_type": "markdown",
   "metadata": {},
   "source": [
    "# Select columns "
   ]
  },
  {
   "cell_type": "code",
   "execution_count": 5,
   "metadata": {},
   "outputs": [
    {
     "data": {
      "text/plain": [
       "Index(['Case Number', 'Date', 'Year', 'Type', 'Country', 'Area', 'Location',\n",
       "       'Activity', 'Name', 'Sex ', 'Age', 'Injury', 'Fatal (Y/N)', 'Time',\n",
       "       'Species ', 'Investigator or Source', 'pdf', 'href formula', 'href',\n",
       "       'Case Number.1', 'Case Number.2', 'original order', 'Unnamed: 22',\n",
       "       'Unnamed: 23'],\n",
       "      dtype='object')"
      ]
     },
     "execution_count": 5,
     "metadata": {},
     "output_type": "execute_result"
    }
   ],
   "source": [
    "df.columns"
   ]
  },
  {
   "cell_type": "code",
   "execution_count": 6,
   "metadata": {},
   "outputs": [
    {
     "data": {
      "text/html": [
       "<div>\n",
       "<style scoped>\n",
       "    .dataframe tbody tr th:only-of-type {\n",
       "        vertical-align: middle;\n",
       "    }\n",
       "\n",
       "    .dataframe tbody tr th {\n",
       "        vertical-align: top;\n",
       "    }\n",
       "\n",
       "    .dataframe thead th {\n",
       "        text-align: right;\n",
       "    }\n",
       "</style>\n",
       "<table border=\"1\" class=\"dataframe\">\n",
       "  <thead>\n",
       "    <tr style=\"text-align: right;\">\n",
       "      <th></th>\n",
       "      <th>Year</th>\n",
       "      <th>Country</th>\n",
       "      <th>Fatal (Y/N)</th>\n",
       "    </tr>\n",
       "  </thead>\n",
       "  <tbody>\n",
       "    <tr>\n",
       "      <th>0</th>\n",
       "      <td>2018.0</td>\n",
       "      <td>USA</td>\n",
       "      <td>N</td>\n",
       "    </tr>\n",
       "    <tr>\n",
       "      <th>1</th>\n",
       "      <td>2018.0</td>\n",
       "      <td>USA</td>\n",
       "      <td>N</td>\n",
       "    </tr>\n",
       "    <tr>\n",
       "      <th>2</th>\n",
       "      <td>2018.0</td>\n",
       "      <td>USA</td>\n",
       "      <td>N</td>\n",
       "    </tr>\n",
       "    <tr>\n",
       "      <th>3</th>\n",
       "      <td>2018.0</td>\n",
       "      <td>AUSTRALIA</td>\n",
       "      <td>N</td>\n",
       "    </tr>\n",
       "    <tr>\n",
       "      <th>4</th>\n",
       "      <td>2018.0</td>\n",
       "      <td>MEXICO</td>\n",
       "      <td>N</td>\n",
       "    </tr>\n",
       "  </tbody>\n",
       "</table>\n",
       "</div>"
      ],
      "text/plain": [
       "     Year    Country Fatal (Y/N)\n",
       "0  2018.0        USA           N\n",
       "1  2018.0        USA           N\n",
       "2  2018.0        USA           N\n",
       "3  2018.0  AUSTRALIA           N\n",
       "4  2018.0     MEXICO           N"
      ]
     },
     "execution_count": 6,
     "metadata": {},
     "output_type": "execute_result"
    }
   ],
   "source": [
    "dfin=df[[\"Year\", \"Country\", \"Fatal (Y/N)\",]]\n",
    "dfin.head()"
   ]
  },
  {
   "cell_type": "markdown",
   "metadata": {},
   "source": [
    "# Clean rows with all values NaN"
   ]
  },
  {
   "cell_type": "code",
   "execution_count": 7,
   "metadata": {},
   "outputs": [
    {
     "data": {
      "text/plain": [
       "Fatal (Y/N)    19960\n",
       "Country        19471\n",
       "Year           19423\n",
       "dtype: int64"
      ]
     },
     "execution_count": 7,
     "metadata": {},
     "output_type": "execute_result"
    }
   ],
   "source": [
    "dfin.isnull().sum().sort_values(ascending=False).head(20)"
   ]
  },
  {
   "cell_type": "code",
   "execution_count": 8,
   "metadata": {},
   "outputs": [],
   "source": [
    "dfin=dfin.dropna(axis=0, how='all')"
   ]
  },
  {
   "cell_type": "code",
   "execution_count": 9,
   "metadata": {},
   "outputs": [
    {
     "data": {
      "text/plain": [
       "Fatal (Y/N)    539\n",
       "Country         50\n",
       "Year             2\n",
       "dtype: int64"
      ]
     },
     "execution_count": 9,
     "metadata": {},
     "output_type": "execute_result"
    }
   ],
   "source": [
    "dfin.isnull().sum().sort_values(ascending=False).head(20)"
   ]
  },
  {
   "cell_type": "markdown",
   "metadata": {},
   "source": [
    "# Group by decades and fatal cases\n"
   ]
  },
  {
   "cell_type": "code",
   "execution_count": 10,
   "metadata": {},
   "outputs": [
    {
     "data": {
      "text/plain": [
       "1786.0    1\n",
       "1554.0    1\n",
       "1771.0    1\n",
       "1721.0    1\n",
       "1742.0    1\n",
       "Name: Year, dtype: int64"
      ]
     },
     "execution_count": 10,
     "metadata": {},
     "output_type": "execute_result"
    }
   ],
   "source": [
    "dfin[\"Year\"].value_counts().sort_values('index', ascending=True).head(5)"
   ]
  },
  {
   "cell_type": "code",
   "execution_count": 11,
   "metadata": {},
   "outputs": [],
   "source": [
    "dfin['Year'] = dfin['Year'].fillna(0)"
   ]
  },
  {
   "cell_type": "code",
   "execution_count": 12,
   "metadata": {},
   "outputs": [
    {
     "data": {
      "text/plain": [
       "Fatal (Y/N)    539\n",
       "Country         50\n",
       "Year             0\n",
       "dtype: int64"
      ]
     },
     "execution_count": 12,
     "metadata": {},
     "output_type": "execute_result"
    }
   ],
   "source": [
    "dfin.isnull().sum().sort_values(ascending=False).head(20)"
   ]
  },
  {
   "cell_type": "code",
   "execution_count": 13,
   "metadata": {},
   "outputs": [],
   "source": [
    "dfin.Year = dfin.Year.astype(int)"
   ]
  },
  {
   "cell_type": "code",
   "execution_count": 14,
   "metadata": {},
   "outputs": [
    {
     "data": {
      "text/plain": [
       "2015    143\n",
       "2017    136\n",
       "2016    130\n",
       "2011    128\n",
       "0       127\n",
       "Name: Year, dtype: int64"
      ]
     },
     "execution_count": 14,
     "metadata": {},
     "output_type": "execute_result"
    }
   ],
   "source": [
    "dfin[\"Year\"].value_counts().head()"
   ]
  },
  {
   "cell_type": "code",
   "execution_count": 15,
   "metadata": {},
   "outputs": [
    {
     "data": {
      "text/plain": [
       "N          4293\n",
       "Y          1388\n",
       "UNKNOWN      71\n",
       " N            7\n",
       "2017          1\n",
       "N             1\n",
       "y             1\n",
       "M             1\n",
       "Name: Fatal (Y/N), dtype: int64"
      ]
     },
     "execution_count": 15,
     "metadata": {},
     "output_type": "execute_result"
    }
   ],
   "source": [
    "dfin[\"Fatal (Y/N)\"].value_counts()"
   ]
  },
  {
   "cell_type": "code",
   "execution_count": 16,
   "metadata": {},
   "outputs": [],
   "source": [
    "dfin['Fatal (Y/N)'] = dfin['Fatal (Y/N)'].fillna(\"UNKNOWN\")"
   ]
  },
  {
   "cell_type": "code",
   "execution_count": 17,
   "metadata": {},
   "outputs": [],
   "source": [
    "def fatal(x):\n",
    "    if x in [\"Y\", \"y\"]:\n",
    "        return \"Yes\"\n",
    "    elif x in [\"N\",\" N\"]:\n",
    "        return \"No\"    \n",
    "    return \"Unknown\"\n",
    "\n",
    "\n",
    "dfin[\"Fatal (Y/N)\"] = dfin[\"Fatal (Y/N)\"].apply(fatal)"
   ]
  },
  {
   "cell_type": "code",
   "execution_count": 18,
   "metadata": {},
   "outputs": [],
   "source": [
    "def year(x):\n",
    "    if x >= 1930 and x <=1939:\n",
    "        return \"1930's\"\n",
    "    if x >= 1940 and x <=1949:\n",
    "        return \"1940's\"\n",
    "    if x >= 1950 and x <=1959:\n",
    "        return \"1950's\"\n",
    "    if x >= 1960 and x <=1969:\n",
    "        return \"1960's\"\n",
    "    if x >= 1970 and x <=1979:\n",
    "        return \"1970's\"\n",
    "    if x >= 1980 and x <=1989:\n",
    "        return \"1980's\"\n",
    "    if x >= 1990 and x <=1999:\n",
    "        return \"1990's\"\n",
    "    if x >= 2000 and x <=2010:\n",
    "        return \"2000's\"\n",
    "    if x >= 2010:\n",
    "        return \"2010's\"\n",
    "    return \"Before 1930\"\n",
    "\n",
    "dfin[\"Year\"]= dfin[\"Year\"].apply(year)"
   ]
  },
  {
   "cell_type": "code",
   "execution_count": 19,
   "metadata": {},
   "outputs": [
    {
     "data": {
      "text/plain": [
       "Before 1930    1248\n",
       "2000's         1122\n",
       "2010's          956\n",
       "1960's          618\n",
       "1990's          569\n",
       "Name: Year, dtype: int64"
      ]
     },
     "execution_count": 19,
     "metadata": {},
     "output_type": "execute_result"
    }
   ],
   "source": [
    "dfin[\"Year\"].value_counts().head()"
   ]
  },
  {
   "cell_type": "code",
   "execution_count": 20,
   "metadata": {},
   "outputs": [
    {
     "data": {
      "text/plain": [
       "USA                 2229\n",
       "AUSTRALIA           1338\n",
       "SOUTH AFRICA         579\n",
       "PAPUA NEW GUINEA     134\n",
       "NEW ZEALAND          128\n",
       "Name: Country, dtype: int64"
      ]
     },
     "execution_count": 20,
     "metadata": {},
     "output_type": "execute_result"
    }
   ],
   "source": [
    "dfin[\"Country\"].value_counts().head()"
   ]
  },
  {
   "cell_type": "code",
   "execution_count": 21,
   "metadata": {},
   "outputs": [
    {
     "data": {
      "text/plain": [
       "No         4300\n",
       "Yes        1389\n",
       "Unknown     613\n",
       "Name: Fatal (Y/N), dtype: int64"
      ]
     },
     "execution_count": 21,
     "metadata": {},
     "output_type": "execute_result"
    }
   ],
   "source": [
    "dfin[\"Fatal (Y/N)\"].value_counts()"
   ]
  },
  {
   "cell_type": "code",
   "execution_count": 22,
   "metadata": {},
   "outputs": [
    {
     "data": {
      "text/html": [
       "<div>\n",
       "<style scoped>\n",
       "    .dataframe tbody tr th:only-of-type {\n",
       "        vertical-align: middle;\n",
       "    }\n",
       "\n",
       "    .dataframe tbody tr th {\n",
       "        vertical-align: top;\n",
       "    }\n",
       "\n",
       "    .dataframe thead th {\n",
       "        text-align: right;\n",
       "    }\n",
       "</style>\n",
       "<table border=\"1\" class=\"dataframe\">\n",
       "  <thead>\n",
       "    <tr style=\"text-align: right;\">\n",
       "      <th></th>\n",
       "      <th>Year</th>\n",
       "      <th>Country</th>\n",
       "      <th>Fatal (Y/N)</th>\n",
       "    </tr>\n",
       "  </thead>\n",
       "  <tbody>\n",
       "    <tr>\n",
       "      <th>0</th>\n",
       "      <td>2010's</td>\n",
       "      <td>USA</td>\n",
       "      <td>No</td>\n",
       "    </tr>\n",
       "    <tr>\n",
       "      <th>1</th>\n",
       "      <td>2010's</td>\n",
       "      <td>USA</td>\n",
       "      <td>No</td>\n",
       "    </tr>\n",
       "    <tr>\n",
       "      <th>2</th>\n",
       "      <td>2010's</td>\n",
       "      <td>USA</td>\n",
       "      <td>No</td>\n",
       "    </tr>\n",
       "    <tr>\n",
       "      <th>3</th>\n",
       "      <td>2010's</td>\n",
       "      <td>AUSTRALIA</td>\n",
       "      <td>No</td>\n",
       "    </tr>\n",
       "    <tr>\n",
       "      <th>4</th>\n",
       "      <td>2010's</td>\n",
       "      <td>MEXICO</td>\n",
       "      <td>No</td>\n",
       "    </tr>\n",
       "  </tbody>\n",
       "</table>\n",
       "</div>"
      ],
      "text/plain": [
       "     Year    Country Fatal (Y/N)\n",
       "0  2010's        USA          No\n",
       "1  2010's        USA          No\n",
       "2  2010's        USA          No\n",
       "3  2010's  AUSTRALIA          No\n",
       "4  2010's     MEXICO          No"
      ]
     },
     "execution_count": 22,
     "metadata": {},
     "output_type": "execute_result"
    }
   ],
   "source": [
    "dfin.head()"
   ]
  },
  {
   "cell_type": "markdown",
   "metadata": {},
   "source": [
    "# Mortality by decades, percentage and difference between decades"
   ]
  },
  {
   "cell_type": "code",
   "execution_count": 23,
   "metadata": {},
   "outputs": [
    {
     "data": {
      "text/html": [
       "<div>\n",
       "<style scoped>\n",
       "    .dataframe tbody tr th:only-of-type {\n",
       "        vertical-align: middle;\n",
       "    }\n",
       "\n",
       "    .dataframe tbody tr th {\n",
       "        vertical-align: top;\n",
       "    }\n",
       "\n",
       "    .dataframe thead th {\n",
       "        text-align: right;\n",
       "    }\n",
       "</style>\n",
       "<table border=\"1\" class=\"dataframe\">\n",
       "  <thead>\n",
       "    <tr style=\"text-align: right;\">\n",
       "      <th></th>\n",
       "      <th></th>\n",
       "      <th>Fatal (Y/N)</th>\n",
       "    </tr>\n",
       "    <tr>\n",
       "      <th>Year</th>\n",
       "      <th>Fatal (Y/N)</th>\n",
       "      <th></th>\n",
       "    </tr>\n",
       "  </thead>\n",
       "  <tbody>\n",
       "    <tr>\n",
       "      <th rowspan=\"3\" valign=\"top\">1930's</th>\n",
       "      <th>No</th>\n",
       "      <td>163</td>\n",
       "    </tr>\n",
       "    <tr>\n",
       "      <th>Unknown</th>\n",
       "      <td>27</td>\n",
       "    </tr>\n",
       "    <tr>\n",
       "      <th>Yes</th>\n",
       "      <td>84</td>\n",
       "    </tr>\n",
       "    <tr>\n",
       "      <th rowspan=\"2\" valign=\"top\">1940's</th>\n",
       "      <th>No</th>\n",
       "      <td>158</td>\n",
       "    </tr>\n",
       "    <tr>\n",
       "      <th>Unknown</th>\n",
       "      <td>22</td>\n",
       "    </tr>\n",
       "  </tbody>\n",
       "</table>\n",
       "</div>"
      ],
      "text/plain": [
       "                    Fatal (Y/N)\n",
       "Year   Fatal (Y/N)             \n",
       "1930's No                   163\n",
       "       Unknown               27\n",
       "       Yes                   84\n",
       "1940's No                   158\n",
       "       Unknown               22"
      ]
     },
     "execution_count": 23,
     "metadata": {},
     "output_type": "execute_result"
    }
   ],
   "source": [
    "decades = dfin.groupby([\"Year\", \"Fatal (Y/N)\"]).agg({\"Fatal (Y/N)\":\"count\"})\n",
    "decades.head(5)"
   ]
  },
  {
   "cell_type": "code",
   "execution_count": 24,
   "metadata": {},
   "outputs": [
    {
     "data": {
      "text/html": [
       "<div>\n",
       "<style scoped>\n",
       "    .dataframe tbody tr th:only-of-type {\n",
       "        vertical-align: middle;\n",
       "    }\n",
       "\n",
       "    .dataframe tbody tr th {\n",
       "        vertical-align: top;\n",
       "    }\n",
       "\n",
       "    .dataframe thead th {\n",
       "        text-align: right;\n",
       "    }\n",
       "</style>\n",
       "<table border=\"1\" class=\"dataframe\">\n",
       "  <thead>\n",
       "    <tr style=\"text-align: right;\">\n",
       "      <th></th>\n",
       "      <th></th>\n",
       "      <th>Fatal (Y/N)</th>\n",
       "      <th>%</th>\n",
       "    </tr>\n",
       "    <tr>\n",
       "      <th>Year</th>\n",
       "      <th>Fatal (Y/N)</th>\n",
       "      <th></th>\n",
       "      <th></th>\n",
       "    </tr>\n",
       "  </thead>\n",
       "  <tbody>\n",
       "    <tr>\n",
       "      <th rowspan=\"3\" valign=\"top\">1930's</th>\n",
       "      <th>No</th>\n",
       "      <td>163</td>\n",
       "      <td>59.489051</td>\n",
       "    </tr>\n",
       "    <tr>\n",
       "      <th>Unknown</th>\n",
       "      <td>27</td>\n",
       "      <td>9.854015</td>\n",
       "    </tr>\n",
       "    <tr>\n",
       "      <th>Yes</th>\n",
       "      <td>84</td>\n",
       "      <td>30.656934</td>\n",
       "    </tr>\n",
       "    <tr>\n",
       "      <th rowspan=\"3\" valign=\"top\">1940's</th>\n",
       "      <th>No</th>\n",
       "      <td>158</td>\n",
       "      <td>55.830389</td>\n",
       "    </tr>\n",
       "    <tr>\n",
       "      <th>Unknown</th>\n",
       "      <td>22</td>\n",
       "      <td>7.773852</td>\n",
       "    </tr>\n",
       "    <tr>\n",
       "      <th>Yes</th>\n",
       "      <td>103</td>\n",
       "      <td>36.395760</td>\n",
       "    </tr>\n",
       "    <tr>\n",
       "      <th rowspan=\"3\" valign=\"top\">1950's</th>\n",
       "      <th>No</th>\n",
       "      <td>286</td>\n",
       "      <td>61.637931</td>\n",
       "    </tr>\n",
       "    <tr>\n",
       "      <th>Unknown</th>\n",
       "      <td>42</td>\n",
       "      <td>9.051724</td>\n",
       "    </tr>\n",
       "    <tr>\n",
       "      <th>Yes</th>\n",
       "      <td>136</td>\n",
       "      <td>29.310345</td>\n",
       "    </tr>\n",
       "    <tr>\n",
       "      <th>1960's</th>\n",
       "      <th>No</th>\n",
       "      <td>422</td>\n",
       "      <td>68.284790</td>\n",
       "    </tr>\n",
       "  </tbody>\n",
       "</table>\n",
       "</div>"
      ],
      "text/plain": [
       "                    Fatal (Y/N)          %\n",
       "Year   Fatal (Y/N)                        \n",
       "1930's No                   163  59.489051\n",
       "       Unknown               27   9.854015\n",
       "       Yes                   84  30.656934\n",
       "1940's No                   158  55.830389\n",
       "       Unknown               22   7.773852\n",
       "       Yes                  103  36.395760\n",
       "1950's No                   286  61.637931\n",
       "       Unknown               42   9.051724\n",
       "       Yes                  136  29.310345\n",
       "1960's No                   422  68.284790"
      ]
     },
     "execution_count": 24,
     "metadata": {},
     "output_type": "execute_result"
    }
   ],
   "source": [
    "groupped_data = dfin.groupby([\"Year\", \"Fatal (Y/N)\"]).agg({\"Fatal (Y/N)\":\"count\"})\n",
    "groupped_data[\"%\"] = groupped_data.apply(lambda x:  100*x / x.sum())\n",
    "\n",
    "\n",
    "groupped_data[\"%\"] = groupped_data.groupby(level=0).apply(\n",
    "     lambda x:  100*x / x.sum()\n",
    ")\n",
    "groupped_data.head(10)"
   ]
  },
  {
   "cell_type": "code",
   "execution_count": 25,
   "metadata": {},
   "outputs": [
    {
     "data": {
      "text/html": [
       "<div>\n",
       "<style scoped>\n",
       "    .dataframe tbody tr th:only-of-type {\n",
       "        vertical-align: middle;\n",
       "    }\n",
       "\n",
       "    .dataframe tbody tr th {\n",
       "        vertical-align: top;\n",
       "    }\n",
       "\n",
       "    .dataframe thead th {\n",
       "        text-align: right;\n",
       "    }\n",
       "</style>\n",
       "<table border=\"1\" class=\"dataframe\">\n",
       "  <thead>\n",
       "    <tr style=\"text-align: right;\">\n",
       "      <th></th>\n",
       "      <th></th>\n",
       "      <th>Fatal (Y/N)</th>\n",
       "      <th>%</th>\n",
       "      <th>difference</th>\n",
       "    </tr>\n",
       "    <tr>\n",
       "      <th>Year</th>\n",
       "      <th>Fatal (Y/N)</th>\n",
       "      <th></th>\n",
       "      <th></th>\n",
       "      <th></th>\n",
       "    </tr>\n",
       "  </thead>\n",
       "  <tbody>\n",
       "    <tr>\n",
       "      <th>1930's</th>\n",
       "      <th>Yes</th>\n",
       "      <td>84</td>\n",
       "      <td>30.7%</td>\n",
       "      <td>NaN</td>\n",
       "    </tr>\n",
       "    <tr>\n",
       "      <th>1940's</th>\n",
       "      <th>Yes</th>\n",
       "      <td>103</td>\n",
       "      <td>36.4%</td>\n",
       "      <td>5.7</td>\n",
       "    </tr>\n",
       "    <tr>\n",
       "      <th>1950's</th>\n",
       "      <th>Yes</th>\n",
       "      <td>136</td>\n",
       "      <td>29.3%</td>\n",
       "      <td>-7.1</td>\n",
       "    </tr>\n",
       "    <tr>\n",
       "      <th>1960's</th>\n",
       "      <th>Yes</th>\n",
       "      <td>112</td>\n",
       "      <td>18.1%</td>\n",
       "      <td>-11.2</td>\n",
       "    </tr>\n",
       "    <tr>\n",
       "      <th>1970's</th>\n",
       "      <th>Yes</th>\n",
       "      <td>68</td>\n",
       "      <td>20.4%</td>\n",
       "      <td>2.2</td>\n",
       "    </tr>\n",
       "    <tr>\n",
       "      <th>1980's</th>\n",
       "      <th>Yes</th>\n",
       "      <td>51</td>\n",
       "      <td>11.8%</td>\n",
       "      <td>-8.6</td>\n",
       "    </tr>\n",
       "    <tr>\n",
       "      <th>1990's</th>\n",
       "      <th>Yes</th>\n",
       "      <td>89</td>\n",
       "      <td>15.6%</td>\n",
       "      <td>3.9</td>\n",
       "    </tr>\n",
       "    <tr>\n",
       "      <th>2000's</th>\n",
       "      <th>Yes</th>\n",
       "      <td>109</td>\n",
       "      <td>9.7%</td>\n",
       "      <td>-5.9</td>\n",
       "    </tr>\n",
       "    <tr>\n",
       "      <th>2010's</th>\n",
       "      <th>Yes</th>\n",
       "      <td>66</td>\n",
       "      <td>6.9%</td>\n",
       "      <td>-2.8</td>\n",
       "    </tr>\n",
       "  </tbody>\n",
       "</table>\n",
       "</div>"
      ],
      "text/plain": [
       "                    Fatal (Y/N)      %  difference\n",
       "Year   Fatal (Y/N)                                \n",
       "1930's Yes                   84  30.7%         NaN\n",
       "1940's Yes                  103  36.4%         5.7\n",
       "1950's Yes                  136  29.3%        -7.1\n",
       "1960's Yes                  112  18.1%       -11.2\n",
       "1970's Yes                   68  20.4%         2.2\n",
       "1980's Yes                   51  11.8%        -8.6\n",
       "1990's Yes                   89  15.6%         3.9\n",
       "2000's Yes                  109   9.7%        -5.9\n",
       "2010's Yes                   66   6.9%        -2.8"
      ]
     },
     "execution_count": 25,
     "metadata": {},
     "output_type": "execute_result"
    }
   ],
   "source": [
    "groupped_data = groupped_data.xs(\"Yes\", level = \"Fatal (Y/N)\", drop_level = False)\n",
    "groupped_data = groupped_data[:9]\n",
    "groupped_data['difference'] = groupped_data['%'].diff().round(1)    \n",
    "groupped_data['%'] = groupped_data['%'].round(1).astype(str) + \"%\"\n",
    "groupped_data"
   ]
  },
  {
   "cell_type": "markdown",
   "metadata": {},
   "source": [
    "# Select Australia and USA"
   ]
  },
  {
   "cell_type": "code",
   "execution_count": 26,
   "metadata": {},
   "outputs": [],
   "source": [
    "indexNames = dfin[(dfin['Country'] != \"USA\") & (dfin['Country'] != \"AUSTRALIA\")].index\n",
    "dfin.drop(indexNames , inplace=True)"
   ]
  },
  {
   "cell_type": "code",
   "execution_count": 27,
   "metadata": {},
   "outputs": [
    {
     "data": {
      "text/html": [
       "<div>\n",
       "<style scoped>\n",
       "    .dataframe tbody tr th:only-of-type {\n",
       "        vertical-align: middle;\n",
       "    }\n",
       "\n",
       "    .dataframe tbody tr th {\n",
       "        vertical-align: top;\n",
       "    }\n",
       "\n",
       "    .dataframe thead th {\n",
       "        text-align: right;\n",
       "    }\n",
       "</style>\n",
       "<table border=\"1\" class=\"dataframe\">\n",
       "  <thead>\n",
       "    <tr style=\"text-align: right;\">\n",
       "      <th></th>\n",
       "      <th></th>\n",
       "      <th>Fatal (Y/N)</th>\n",
       "      <th>%</th>\n",
       "    </tr>\n",
       "    <tr>\n",
       "      <th>Year</th>\n",
       "      <th>Fatal (Y/N)</th>\n",
       "      <th></th>\n",
       "      <th></th>\n",
       "    </tr>\n",
       "  </thead>\n",
       "  <tbody>\n",
       "    <tr>\n",
       "      <th rowspan=\"3\" valign=\"top\">1930's</th>\n",
       "      <th>No</th>\n",
       "      <td>83</td>\n",
       "      <td>63.36%</td>\n",
       "    </tr>\n",
       "    <tr>\n",
       "      <th>Unknown</th>\n",
       "      <td>13</td>\n",
       "      <td>9.92%</td>\n",
       "    </tr>\n",
       "    <tr>\n",
       "      <th>Yes</th>\n",
       "      <td>35</td>\n",
       "      <td>26.72%</td>\n",
       "    </tr>\n",
       "    <tr>\n",
       "      <th rowspan=\"2\" valign=\"top\">1940's</th>\n",
       "      <th>No</th>\n",
       "      <td>48</td>\n",
       "      <td>64.86%</td>\n",
       "    </tr>\n",
       "    <tr>\n",
       "      <th>Unknown</th>\n",
       "      <td>7</td>\n",
       "      <td>9.46%</td>\n",
       "    </tr>\n",
       "  </tbody>\n",
       "</table>\n",
       "</div>"
      ],
      "text/plain": [
       "                    Fatal (Y/N)       %\n",
       "Year   Fatal (Y/N)                     \n",
       "1930's No                    83  63.36%\n",
       "       Unknown               13   9.92%\n",
       "       Yes                   35  26.72%\n",
       "1940's No                    48  64.86%\n",
       "       Unknown                7   9.46%"
      ]
     },
     "execution_count": 27,
     "metadata": {},
     "output_type": "execute_result"
    }
   ],
   "source": [
    "aus_data= dfin[dfin[\"Country\"] == \"AUSTRALIA\"].groupby([\"Year\", \"Fatal (Y/N)\"]).agg({\"Fatal (Y/N)\":\"count\"})\n",
    "aus_data[\"%\"] = aus_data.apply(lambda x:  100*x / x.sum())\n",
    "\n",
    "\n",
    "aus_data[\"%\"] = aus_data.groupby(level=0).apply(\n",
    "     lambda x:  100*x / x.sum()\n",
    ")\n",
    "aus_data['%'] = aus_data['%'].round(2).astype(str) + \"%\"\n",
    "aus_data.head()"
   ]
  },
  {
   "cell_type": "code",
   "execution_count": 28,
   "metadata": {},
   "outputs": [
    {
     "data": {
      "text/html": [
       "<div>\n",
       "<style scoped>\n",
       "    .dataframe tbody tr th:only-of-type {\n",
       "        vertical-align: middle;\n",
       "    }\n",
       "\n",
       "    .dataframe tbody tr th {\n",
       "        vertical-align: top;\n",
       "    }\n",
       "\n",
       "    .dataframe thead th {\n",
       "        text-align: right;\n",
       "    }\n",
       "</style>\n",
       "<table border=\"1\" class=\"dataframe\">\n",
       "  <thead>\n",
       "    <tr style=\"text-align: right;\">\n",
       "      <th></th>\n",
       "      <th></th>\n",
       "      <th>Fatal (Y/N)</th>\n",
       "      <th>%</th>\n",
       "    </tr>\n",
       "    <tr>\n",
       "      <th>Year</th>\n",
       "      <th>Fatal (Y/N)</th>\n",
       "      <th></th>\n",
       "      <th></th>\n",
       "    </tr>\n",
       "  </thead>\n",
       "  <tbody>\n",
       "    <tr>\n",
       "      <th rowspan=\"3\" valign=\"top\">1930's</th>\n",
       "      <th>No</th>\n",
       "      <td>39</td>\n",
       "      <td>75.0%</td>\n",
       "    </tr>\n",
       "    <tr>\n",
       "      <th>Unknown</th>\n",
       "      <td>5</td>\n",
       "      <td>9.62%</td>\n",
       "    </tr>\n",
       "    <tr>\n",
       "      <th>Yes</th>\n",
       "      <td>8</td>\n",
       "      <td>15.38%</td>\n",
       "    </tr>\n",
       "    <tr>\n",
       "      <th rowspan=\"2\" valign=\"top\">1940's</th>\n",
       "      <th>No</th>\n",
       "      <td>22</td>\n",
       "      <td>68.75%</td>\n",
       "    </tr>\n",
       "    <tr>\n",
       "      <th>Unknown</th>\n",
       "      <td>3</td>\n",
       "      <td>9.38%</td>\n",
       "    </tr>\n",
       "  </tbody>\n",
       "</table>\n",
       "</div>"
      ],
      "text/plain": [
       "                    Fatal (Y/N)       %\n",
       "Year   Fatal (Y/N)                     \n",
       "1930's No                    39   75.0%\n",
       "       Unknown                5   9.62%\n",
       "       Yes                    8  15.38%\n",
       "1940's No                    22  68.75%\n",
       "       Unknown                3   9.38%"
      ]
     },
     "execution_count": 28,
     "metadata": {},
     "output_type": "execute_result"
    }
   ],
   "source": [
    "usa_data= dfin[dfin[\"Country\"] == \"USA\"].groupby([\"Year\", \"Fatal (Y/N)\"]).agg({\"Fatal (Y/N)\":\"count\"})\n",
    "usa_data[\"%\"] = usa_data.apply(lambda x:  100*x / x.sum())\n",
    "\n",
    "\n",
    "usa_data[\"%\"] = usa_data.groupby(level=0).apply(\n",
    "     lambda x:  100*x / x.sum()\n",
    ")\n",
    "usa_data['%'] = usa_data['%'].round(2).astype(str) + \"%\"\n",
    "usa_data.head()"
   ]
  },
  {
   "cell_type": "markdown",
   "metadata": {},
   "source": [
    "## Mortality by decades, percentage and difference between decades Australia y USA"
   ]
  },
  {
   "cell_type": "code",
   "execution_count": 29,
   "metadata": {},
   "outputs": [],
   "source": [
    "total_data= dfin[dfin[\"Fatal (Y/N)\"] == \"Yes\"].groupby([\"Year\", \"Country\"]).agg({\"Fatal (Y/N)\":\"count\"})\n",
    "total_data[\"%\"] = total_data.apply(lambda x:  100*x / x.sum())\n",
    "total_data[\"%\"] = total_data.groupby(level=0).apply(\n",
    "     lambda x:  100*x / x.sum()\n",
    ")\n",
    "total_data['%'] = total_data['%'].round(2).astype(str) + \"%\""
   ]
  },
  {
   "cell_type": "code",
   "execution_count": 30,
   "metadata": {},
   "outputs": [
    {
     "data": {
      "text/html": [
       "<div>\n",
       "<style scoped>\n",
       "    .dataframe tbody tr th:only-of-type {\n",
       "        vertical-align: middle;\n",
       "    }\n",
       "\n",
       "    .dataframe tbody tr th {\n",
       "        vertical-align: top;\n",
       "    }\n",
       "\n",
       "    .dataframe thead th {\n",
       "        text-align: right;\n",
       "    }\n",
       "</style>\n",
       "<table border=\"1\" class=\"dataframe\">\n",
       "  <thead>\n",
       "    <tr style=\"text-align: right;\">\n",
       "      <th></th>\n",
       "      <th></th>\n",
       "      <th>Fatal (Y/N)</th>\n",
       "      <th>%</th>\n",
       "    </tr>\n",
       "    <tr>\n",
       "      <th>Year</th>\n",
       "      <th>Country</th>\n",
       "      <th></th>\n",
       "      <th></th>\n",
       "    </tr>\n",
       "  </thead>\n",
       "  <tbody>\n",
       "    <tr>\n",
       "      <th rowspan=\"2\" valign=\"top\">1930's</th>\n",
       "      <th>AUSTRALIA</th>\n",
       "      <td>35</td>\n",
       "      <td>81.4%</td>\n",
       "    </tr>\n",
       "    <tr>\n",
       "      <th>USA</th>\n",
       "      <td>8</td>\n",
       "      <td>18.6%</td>\n",
       "    </tr>\n",
       "    <tr>\n",
       "      <th rowspan=\"2\" valign=\"top\">1940's</th>\n",
       "      <th>AUSTRALIA</th>\n",
       "      <td>19</td>\n",
       "      <td>73.08%</td>\n",
       "    </tr>\n",
       "    <tr>\n",
       "      <th>USA</th>\n",
       "      <td>7</td>\n",
       "      <td>26.92%</td>\n",
       "    </tr>\n",
       "    <tr>\n",
       "      <th rowspan=\"2\" valign=\"top\">1950's</th>\n",
       "      <th>AUSTRALIA</th>\n",
       "      <td>16</td>\n",
       "      <td>47.06%</td>\n",
       "    </tr>\n",
       "    <tr>\n",
       "      <th>USA</th>\n",
       "      <td>18</td>\n",
       "      <td>52.94%</td>\n",
       "    </tr>\n",
       "    <tr>\n",
       "      <th rowspan=\"2\" valign=\"top\">1960's</th>\n",
       "      <th>AUSTRALIA</th>\n",
       "      <td>11</td>\n",
       "      <td>52.38%</td>\n",
       "    </tr>\n",
       "    <tr>\n",
       "      <th>USA</th>\n",
       "      <td>10</td>\n",
       "      <td>47.62%</td>\n",
       "    </tr>\n",
       "    <tr>\n",
       "      <th rowspan=\"2\" valign=\"top\">1970's</th>\n",
       "      <th>AUSTRALIA</th>\n",
       "      <td>11</td>\n",
       "      <td>55.0%</td>\n",
       "    </tr>\n",
       "    <tr>\n",
       "      <th>USA</th>\n",
       "      <td>9</td>\n",
       "      <td>45.0%</td>\n",
       "    </tr>\n",
       "    <tr>\n",
       "      <th rowspan=\"2\" valign=\"top\">1980's</th>\n",
       "      <th>AUSTRALIA</th>\n",
       "      <td>10</td>\n",
       "      <td>45.45%</td>\n",
       "    </tr>\n",
       "    <tr>\n",
       "      <th>USA</th>\n",
       "      <td>12</td>\n",
       "      <td>54.55%</td>\n",
       "    </tr>\n",
       "    <tr>\n",
       "      <th rowspan=\"2\" valign=\"top\">1990's</th>\n",
       "      <th>AUSTRALIA</th>\n",
       "      <td>11</td>\n",
       "      <td>47.83%</td>\n",
       "    </tr>\n",
       "    <tr>\n",
       "      <th>USA</th>\n",
       "      <td>12</td>\n",
       "      <td>52.17%</td>\n",
       "    </tr>\n",
       "    <tr>\n",
       "      <th rowspan=\"2\" valign=\"top\">2000's</th>\n",
       "      <th>AUSTRALIA</th>\n",
       "      <td>15</td>\n",
       "      <td>48.39%</td>\n",
       "    </tr>\n",
       "    <tr>\n",
       "      <th>USA</th>\n",
       "      <td>16</td>\n",
       "      <td>51.61%</td>\n",
       "    </tr>\n",
       "    <tr>\n",
       "      <th rowspan=\"2\" valign=\"top\">2010's</th>\n",
       "      <th>AUSTRALIA</th>\n",
       "      <td>18</td>\n",
       "      <td>81.82%</td>\n",
       "    </tr>\n",
       "    <tr>\n",
       "      <th>USA</th>\n",
       "      <td>4</td>\n",
       "      <td>18.18%</td>\n",
       "    </tr>\n",
       "    <tr>\n",
       "      <th rowspan=\"2\" valign=\"top\">Before 1930</th>\n",
       "      <th>AUSTRALIA</th>\n",
       "      <td>137</td>\n",
       "      <td>60.35%</td>\n",
       "    </tr>\n",
       "    <tr>\n",
       "      <th>USA</th>\n",
       "      <td>90</td>\n",
       "      <td>39.65%</td>\n",
       "    </tr>\n",
       "  </tbody>\n",
       "</table>\n",
       "</div>"
      ],
      "text/plain": [
       "                       Fatal (Y/N)       %\n",
       "Year        Country                       \n",
       "1930's      AUSTRALIA           35   81.4%\n",
       "            USA                  8   18.6%\n",
       "1940's      AUSTRALIA           19  73.08%\n",
       "            USA                  7  26.92%\n",
       "1950's      AUSTRALIA           16  47.06%\n",
       "            USA                 18  52.94%\n",
       "1960's      AUSTRALIA           11  52.38%\n",
       "            USA                 10  47.62%\n",
       "1970's      AUSTRALIA           11   55.0%\n",
       "            USA                  9   45.0%\n",
       "1980's      AUSTRALIA           10  45.45%\n",
       "            USA                 12  54.55%\n",
       "1990's      AUSTRALIA           11  47.83%\n",
       "            USA                 12  52.17%\n",
       "2000's      AUSTRALIA           15  48.39%\n",
       "            USA                 16  51.61%\n",
       "2010's      AUSTRALIA           18  81.82%\n",
       "            USA                  4  18.18%\n",
       "Before 1930 AUSTRALIA          137  60.35%\n",
       "            USA                 90  39.65%"
      ]
     },
     "execution_count": 30,
     "metadata": {},
     "output_type": "execute_result"
    }
   ],
   "source": [
    "total_data.head(20)"
   ]
  },
  {
   "cell_type": "markdown",
   "metadata": {},
   "source": [
    "# Mortality through all history"
   ]
  },
  {
   "cell_type": "code",
   "execution_count": 31,
   "metadata": {},
   "outputs": [
    {
     "data": {
      "text/html": [
       "<div>\n",
       "<style scoped>\n",
       "    .dataframe tbody tr th:only-of-type {\n",
       "        vertical-align: middle;\n",
       "    }\n",
       "\n",
       "    .dataframe tbody tr th {\n",
       "        vertical-align: top;\n",
       "    }\n",
       "\n",
       "    .dataframe thead th {\n",
       "        text-align: right;\n",
       "    }\n",
       "</style>\n",
       "<table border=\"1\" class=\"dataframe\">\n",
       "  <thead>\n",
       "    <tr style=\"text-align: right;\">\n",
       "      <th></th>\n",
       "      <th></th>\n",
       "      <th>Fatal (Y/N)</th>\n",
       "      <th>%</th>\n",
       "    </tr>\n",
       "    <tr>\n",
       "      <th>Country</th>\n",
       "      <th>Fatal (Y/N)</th>\n",
       "      <th></th>\n",
       "      <th></th>\n",
       "    </tr>\n",
       "  </thead>\n",
       "  <tbody>\n",
       "    <tr>\n",
       "      <th rowspan=\"3\" valign=\"top\">AUSTRALIA</th>\n",
       "      <th>No</th>\n",
       "      <td>920</td>\n",
       "      <td>68.76%</td>\n",
       "    </tr>\n",
       "    <tr>\n",
       "      <th>Unknown</th>\n",
       "      <td>135</td>\n",
       "      <td>10.09%</td>\n",
       "    </tr>\n",
       "    <tr>\n",
       "      <th>Yes</th>\n",
       "      <td>283</td>\n",
       "      <td>21.15%</td>\n",
       "    </tr>\n",
       "    <tr>\n",
       "      <th rowspan=\"3\" valign=\"top\">USA</th>\n",
       "      <th>No</th>\n",
       "      <td>1837</td>\n",
       "      <td>82.41%</td>\n",
       "    </tr>\n",
       "    <tr>\n",
       "      <th>Unknown</th>\n",
       "      <td>206</td>\n",
       "      <td>9.24%</td>\n",
       "    </tr>\n",
       "    <tr>\n",
       "      <th>Yes</th>\n",
       "      <td>186</td>\n",
       "      <td>8.34%</td>\n",
       "    </tr>\n",
       "  </tbody>\n",
       "</table>\n",
       "</div>"
      ],
      "text/plain": [
       "                       Fatal (Y/N)       %\n",
       "Country   Fatal (Y/N)                     \n",
       "AUSTRALIA No                   920  68.76%\n",
       "          Unknown              135  10.09%\n",
       "          Yes                  283  21.15%\n",
       "USA       No                  1837  82.41%\n",
       "          Unknown              206   9.24%\n",
       "          Yes                  186   8.34%"
      ]
     },
     "execution_count": 31,
     "metadata": {},
     "output_type": "execute_result"
    }
   ],
   "source": [
    "data_usa_aus = dfin.groupby([\"Country\", \"Fatal (Y/N)\"]).agg({\"Fatal (Y/N)\":\"count\"})\n",
    "data_usa_aus[\"%\"] = data_usa_aus.apply(lambda x:  100*x / x.sum())\n",
    "\n",
    "\n",
    "data_usa_aus[\"%\"] = data_usa_aus.groupby(level=0).apply(\n",
    "     lambda x:  100*x / x.sum()\n",
    ")\n",
    "data_usa_aus['%'] = data_usa_aus['%'].round(2).astype(str) + \"%\"\n",
    "data_usa_aus.head(20)"
   ]
  },
  {
   "cell_type": "markdown",
   "metadata": {},
   "source": [
    "# Mortality 15 before and after \"Jaws\""
   ]
  },
  {
   "cell_type": "code",
   "execution_count": 32,
   "metadata": {},
   "outputs": [],
   "source": [
    "dfin2=df.copy()"
   ]
  },
  {
   "cell_type": "code",
   "execution_count": 33,
   "metadata": {},
   "outputs": [],
   "source": [
    "dfin2=dfin2[[\"Year\", \"Country\", \"Activity\", \"Type\", \"Fatal (Y/N)\",]]"
   ]
  },
  {
   "cell_type": "code",
   "execution_count": 34,
   "metadata": {},
   "outputs": [
    {
     "data": {
      "text/plain": [
       "Activity       19965\n",
       "Fatal (Y/N)    19960\n",
       "Country        19471\n",
       "Type           19425\n",
       "Year           19423\n",
       "dtype: int64"
      ]
     },
     "execution_count": 34,
     "metadata": {},
     "output_type": "execute_result"
    }
   ],
   "source": [
    "dfin2.isnull().sum().sort_values(ascending=False).head()"
   ]
  },
  {
   "cell_type": "code",
   "execution_count": 35,
   "metadata": {},
   "outputs": [],
   "source": [
    "dfin2=dfin2.dropna(axis=0, how='all')"
   ]
  },
  {
   "cell_type": "code",
   "execution_count": 36,
   "metadata": {},
   "outputs": [
    {
     "data": {
      "text/plain": [
       "Activity       544\n",
       "Fatal (Y/N)    539\n",
       "Country         50\n",
       "Type             4\n",
       "Year             2\n",
       "dtype: int64"
      ]
     },
     "execution_count": 36,
     "metadata": {},
     "output_type": "execute_result"
    }
   ],
   "source": [
    "dfin2.isnull().sum().sort_values(ascending=False).head()"
   ]
  },
  {
   "cell_type": "code",
   "execution_count": 37,
   "metadata": {},
   "outputs": [
    {
     "data": {
      "text/plain": [
       "1786.0    1\n",
       "1554.0    1\n",
       "1771.0    1\n",
       "1721.0    1\n",
       "1742.0    1\n",
       "Name: Year, dtype: int64"
      ]
     },
     "execution_count": 37,
     "metadata": {},
     "output_type": "execute_result"
    }
   ],
   "source": [
    "dfin2[\"Year\"].value_counts().sort_values('index', ascending=True).head(5)"
   ]
  },
  {
   "cell_type": "code",
   "execution_count": 38,
   "metadata": {},
   "outputs": [],
   "source": [
    "dfin2['Year'] = dfin2['Year'].fillna(0)"
   ]
  },
  {
   "cell_type": "code",
   "execution_count": 39,
   "metadata": {},
   "outputs": [],
   "source": [
    "dfin2.Year = dfin2.Year.astype(int)"
   ]
  },
  {
   "cell_type": "code",
   "execution_count": 40,
   "metadata": {},
   "outputs": [],
   "source": [
    "dfin2['Fatal (Y/N)'] = dfin2['Fatal (Y/N)'].fillna(\"UNKNOWN\")"
   ]
  },
  {
   "cell_type": "code",
   "execution_count": 41,
   "metadata": {},
   "outputs": [],
   "source": [
    "dfin2[\"Fatal (Y/N)\"] = dfin2[\"Fatal (Y/N)\"].apply(fatal)"
   ]
  },
  {
   "cell_type": "code",
   "execution_count": 42,
   "metadata": {},
   "outputs": [],
   "source": [
    "def year2(x):\n",
    "    if x >= 1960 and x <=1975:\n",
    "        return \"Before movie\"\n",
    "    if x >= 1976 and x <=1990:\n",
    "        return \"After movie\"\n",
    "\n",
    "    return \"Rest\"\n",
    "\n",
    "dfin2[\"Year\"]= dfin2[\"Year\"].apply(year2)"
   ]
  },
  {
   "cell_type": "code",
   "execution_count": 43,
   "metadata": {},
   "outputs": [],
   "source": [
    "indexNames = dfin2[(dfin2['Year'] != \"Before movie\") & (dfin2['Year'] != \"After movie\")].index\n",
    "dfin2.drop(indexNames , inplace=True)"
   ]
  },
  {
   "cell_type": "code",
   "execution_count": 44,
   "metadata": {},
   "outputs": [],
   "source": [
    "groupped_data2 = dfin2.groupby([\"Year\", \"Fatal (Y/N)\"]).agg({\"Fatal (Y/N)\":\"count\"})\n",
    "groupped_data2[\"%\"] = groupped_data2.apply(lambda x:  100*x / x.sum())\n",
    "\n",
    "\n",
    "groupped_data2[\"%\"] = groupped_data2.groupby(level=0).apply(\n",
    "     lambda x:  100*x / x.sum()\n",
    ")\n",
    "groupped_data2['%'] = groupped_data2['%'].round(2).astype(str) + \"%\"\n",
    "groupped_data2=groupped_data2.sort_values(\"Year\", ascending=False)"
   ]
  },
  {
   "cell_type": "code",
   "execution_count": 45,
   "metadata": {},
   "outputs": [
    {
     "data": {
      "text/html": [
       "<div>\n",
       "<style scoped>\n",
       "    .dataframe tbody tr th:only-of-type {\n",
       "        vertical-align: middle;\n",
       "    }\n",
       "\n",
       "    .dataframe tbody tr th {\n",
       "        vertical-align: top;\n",
       "    }\n",
       "\n",
       "    .dataframe thead th {\n",
       "        text-align: right;\n",
       "    }\n",
       "</style>\n",
       "<table border=\"1\" class=\"dataframe\">\n",
       "  <thead>\n",
       "    <tr style=\"text-align: right;\">\n",
       "      <th></th>\n",
       "      <th></th>\n",
       "      <th>Fatal (Y/N)</th>\n",
       "      <th>%</th>\n",
       "    </tr>\n",
       "    <tr>\n",
       "      <th>Year</th>\n",
       "      <th>Fatal (Y/N)</th>\n",
       "      <th></th>\n",
       "      <th></th>\n",
       "    </tr>\n",
       "  </thead>\n",
       "  <tbody>\n",
       "    <tr>\n",
       "      <th rowspan=\"3\" valign=\"top\">Before movie</th>\n",
       "      <th>No</th>\n",
       "      <td>581</td>\n",
       "      <td>69.41%</td>\n",
       "    </tr>\n",
       "    <tr>\n",
       "      <th>Unknown</th>\n",
       "      <td>96</td>\n",
       "      <td>11.47%</td>\n",
       "    </tr>\n",
       "    <tr>\n",
       "      <th>Yes</th>\n",
       "      <td>160</td>\n",
       "      <td>19.12%</td>\n",
       "    </tr>\n",
       "    <tr>\n",
       "      <th rowspan=\"3\" valign=\"top\">After movie</th>\n",
       "      <th>No</th>\n",
       "      <td>442</td>\n",
       "      <td>75.3%</td>\n",
       "    </tr>\n",
       "    <tr>\n",
       "      <th>Unknown</th>\n",
       "      <td>71</td>\n",
       "      <td>12.1%</td>\n",
       "    </tr>\n",
       "    <tr>\n",
       "      <th>Yes</th>\n",
       "      <td>74</td>\n",
       "      <td>12.61%</td>\n",
       "    </tr>\n",
       "  </tbody>\n",
       "</table>\n",
       "</div>"
      ],
      "text/plain": [
       "                          Fatal (Y/N)       %\n",
       "Year         Fatal (Y/N)                     \n",
       "Before movie No                   581  69.41%\n",
       "             Unknown               96  11.47%\n",
       "             Yes                  160  19.12%\n",
       "After movie  No                   442   75.3%\n",
       "             Unknown               71   12.1%\n",
       "             Yes                   74  12.61%"
      ]
     },
     "execution_count": 45,
     "metadata": {},
     "output_type": "execute_result"
    }
   ],
   "source": [
    "groupped_data2"
   ]
  },
  {
   "cell_type": "markdown",
   "metadata": {},
   "source": [
    "# Mortality 15 before and after \"Jaws\" in USA"
   ]
  },
  {
   "cell_type": "code",
   "execution_count": 46,
   "metadata": {},
   "outputs": [],
   "source": [
    "dfin3 = dfin2.copy()"
   ]
  },
  {
   "cell_type": "code",
   "execution_count": 47,
   "metadata": {},
   "outputs": [],
   "source": [
    "dfin3 = dfin3[dfin3[\"Country\"] == \"USA\"]"
   ]
  },
  {
   "cell_type": "code",
   "execution_count": 48,
   "metadata": {},
   "outputs": [],
   "source": [
    "groupped_data3 = dfin3.groupby([\"Year\", \"Fatal (Y/N)\"]).agg({\"Fatal (Y/N)\":\"count\"})\n",
    "groupped_data3[\"%\"] = groupped_data3.apply(lambda x:  100*x / x.sum())\n",
    "\n",
    "\n",
    "groupped_data3[\"%\"] = groupped_data3.groupby(level=0).apply(\n",
    "     lambda x:  100*x / x.sum()\n",
    ")\n",
    "groupped_data3['%'] = groupped_data3['%'].round(2).astype(str) + \"%\"\n",
    "groupped_data3=groupped_data3.sort_values(\"Year\", ascending=False)"
   ]
  },
  {
   "cell_type": "code",
   "execution_count": 49,
   "metadata": {},
   "outputs": [
    {
     "data": {
      "text/html": [
       "<div>\n",
       "<style scoped>\n",
       "    .dataframe tbody tr th:only-of-type {\n",
       "        vertical-align: middle;\n",
       "    }\n",
       "\n",
       "    .dataframe tbody tr th {\n",
       "        vertical-align: top;\n",
       "    }\n",
       "\n",
       "    .dataframe thead th {\n",
       "        text-align: right;\n",
       "    }\n",
       "</style>\n",
       "<table border=\"1\" class=\"dataframe\">\n",
       "  <thead>\n",
       "    <tr style=\"text-align: right;\">\n",
       "      <th></th>\n",
       "      <th></th>\n",
       "      <th>Fatal (Y/N)</th>\n",
       "      <th>%</th>\n",
       "    </tr>\n",
       "    <tr>\n",
       "      <th>Year</th>\n",
       "      <th>Fatal (Y/N)</th>\n",
       "      <th></th>\n",
       "      <th></th>\n",
       "    </tr>\n",
       "  </thead>\n",
       "  <tbody>\n",
       "    <tr>\n",
       "      <th rowspan=\"3\" valign=\"top\">Before movie</th>\n",
       "      <th>No</th>\n",
       "      <td>163</td>\n",
       "      <td>75.12%</td>\n",
       "    </tr>\n",
       "    <tr>\n",
       "      <th>Unknown</th>\n",
       "      <td>40</td>\n",
       "      <td>18.43%</td>\n",
       "    </tr>\n",
       "    <tr>\n",
       "      <th>Yes</th>\n",
       "      <td>14</td>\n",
       "      <td>6.45%</td>\n",
       "    </tr>\n",
       "    <tr>\n",
       "      <th rowspan=\"3\" valign=\"top\">After movie</th>\n",
       "      <th>No</th>\n",
       "      <td>223</td>\n",
       "      <td>83.52%</td>\n",
       "    </tr>\n",
       "    <tr>\n",
       "      <th>Unknown</th>\n",
       "      <td>26</td>\n",
       "      <td>9.74%</td>\n",
       "    </tr>\n",
       "    <tr>\n",
       "      <th>Yes</th>\n",
       "      <td>18</td>\n",
       "      <td>6.74%</td>\n",
       "    </tr>\n",
       "  </tbody>\n",
       "</table>\n",
       "</div>"
      ],
      "text/plain": [
       "                          Fatal (Y/N)       %\n",
       "Year         Fatal (Y/N)                     \n",
       "Before movie No                   163  75.12%\n",
       "             Unknown               40  18.43%\n",
       "             Yes                   14   6.45%\n",
       "After movie  No                   223  83.52%\n",
       "             Unknown               26   9.74%\n",
       "             Yes                   18   6.74%"
      ]
     },
     "execution_count": 49,
     "metadata": {},
     "output_type": "execute_result"
    }
   ],
   "source": [
    "groupped_data3"
   ]
  },
  {
   "cell_type": "markdown",
   "metadata": {},
   "source": [
    "# Mortality 15 before and after \"Jaws\" in Australia"
   ]
  },
  {
   "cell_type": "code",
   "execution_count": 61,
   "metadata": {},
   "outputs": [
    {
     "data": {
      "text/html": [
       "<div>\n",
       "<style scoped>\n",
       "    .dataframe tbody tr th:only-of-type {\n",
       "        vertical-align: middle;\n",
       "    }\n",
       "\n",
       "    .dataframe tbody tr th {\n",
       "        vertical-align: top;\n",
       "    }\n",
       "\n",
       "    .dataframe thead th {\n",
       "        text-align: right;\n",
       "    }\n",
       "</style>\n",
       "<table border=\"1\" class=\"dataframe\">\n",
       "  <thead>\n",
       "    <tr style=\"text-align: right;\">\n",
       "      <th></th>\n",
       "      <th></th>\n",
       "      <th>Fatal (Y/N)</th>\n",
       "      <th>%</th>\n",
       "    </tr>\n",
       "    <tr>\n",
       "      <th>Year</th>\n",
       "      <th>Fatal (Y/N)</th>\n",
       "      <th></th>\n",
       "      <th></th>\n",
       "    </tr>\n",
       "  </thead>\n",
       "  <tbody>\n",
       "    <tr>\n",
       "      <th rowspan=\"3\" valign=\"top\">Before movie</th>\n",
       "      <th>No</th>\n",
       "      <td>142</td>\n",
       "      <td>81.14%</td>\n",
       "    </tr>\n",
       "    <tr>\n",
       "      <th>Unknown</th>\n",
       "      <td>14</td>\n",
       "      <td>8.0%</td>\n",
       "    </tr>\n",
       "    <tr>\n",
       "      <th>Yes</th>\n",
       "      <td>19</td>\n",
       "      <td>10.86%</td>\n",
       "    </tr>\n",
       "    <tr>\n",
       "      <th rowspan=\"3\" valign=\"top\">After movie</th>\n",
       "      <th>No</th>\n",
       "      <td>48</td>\n",
       "      <td>65.75%</td>\n",
       "    </tr>\n",
       "    <tr>\n",
       "      <th>Unknown</th>\n",
       "      <td>11</td>\n",
       "      <td>15.07%</td>\n",
       "    </tr>\n",
       "    <tr>\n",
       "      <th>Yes</th>\n",
       "      <td>14</td>\n",
       "      <td>19.18%</td>\n",
       "    </tr>\n",
       "  </tbody>\n",
       "</table>\n",
       "</div>"
      ],
      "text/plain": [
       "                          Fatal (Y/N)       %\n",
       "Year         Fatal (Y/N)                     \n",
       "Before movie No                   142  81.14%\n",
       "             Unknown               14    8.0%\n",
       "             Yes                   19  10.86%\n",
       "After movie  No                    48  65.75%\n",
       "             Unknown               11  15.07%\n",
       "             Yes                   14  19.18%"
      ]
     },
     "execution_count": 61,
     "metadata": {},
     "output_type": "execute_result"
    }
   ],
   "source": [
    "dfin4 = dfin2.copy()\n",
    "dfin4 = dfin4[dfin4[\"Country\"] == \"AUSTRALIA\"]\n",
    "groupped_data4 = dfin4.groupby([\"Year\", \"Fatal (Y/N)\"]).agg({\"Fatal (Y/N)\":\"count\"})\n",
    "groupped_data4[\"%\"] = groupped_data4.apply(lambda x:  100*x / x.sum())\n",
    "\n",
    "\n",
    "groupped_data4[\"%\"] = groupped_data4.groupby(level=0).apply(\n",
    "     lambda x:  100*x / x.sum()\n",
    ")\n",
    "groupped_data4['%'] = groupped_data4['%'].round(2).astype(str) + \"%\"\n",
    "groupped_data4=groupped_data4.sort_values(\"Year\", ascending=False)\n",
    "groupped_data4"
   ]
  }
 ],
 "metadata": {
  "kernelspec": {
   "display_name": "Python 3",
   "language": "python",
   "name": "python3"
  },
  "language_info": {
   "codemirror_mode": {
    "name": "ipython",
    "version": 3
   },
   "file_extension": ".py",
   "mimetype": "text/x-python",
   "name": "python",
   "nbconvert_exporter": "python",
   "pygments_lexer": "ipython3",
   "version": "3.6.9"
  }
 },
 "nbformat": 4,
 "nbformat_minor": 4
}
